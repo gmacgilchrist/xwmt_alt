{
 "cells": [
  {
   "cell_type": "code",
   "execution_count": 1,
   "id": "a4798f6a",
   "metadata": {},
   "outputs": [],
   "source": [
    "import xarray as xr\n",
    "from xhistogram.xarray import histogram\n",
    "import numpy as np"
   ]
  },
  {
   "cell_type": "code",
   "execution_count": 5,
   "id": "36ba5eb7",
   "metadata": {},
   "outputs": [],
   "source": [
    "ds = xr.open_dataset('../data/raw/testdata_Baltic/19000101.ocean_z_heat_1900_01.nc')\n",
    "grid = xr.open_dataset('../data/raw/testdata_Baltic/19000101.ocean_static.nc')"
   ]
  },
  {
   "cell_type": "code",
   "execution_count": 36,
   "id": "7f0db145",
   "metadata": {},
   "outputs": [],
   "source": [
    "def testingcalc_G(ds,lname,Ldotname,lbins,weightfactor):\n",
    "    \"\"\" A very simple calculation of WMT using xhistogram.\n",
    "    Intended as the standard against which to test generalized formulations.\n",
    "    \n",
    "    Parameters\n",
    "    ----------\n",
    "    ds : xr.Dataset\n",
    "        Dataset containing the scalar with name lname, and the tendency with name Ldotname.\n",
    "    lname : str\n",
    "        Name of scalar for which to calculate WMT\n",
    "    Ldotname : str\n",
    "        Diagnostic name of process for which WMT will be calculated.\n",
    "    lbins : np.array\n",
    "        Bin edges for histogram.\n",
    "    weightfactor : float or xr.DataArray\n",
    "        Factor by which to multiply Ldot to convert to units of [scalar units] s-1.\n",
    "        E.g. for l=temperature [units=degC], and Ldot=vertical diffusion [units : Wm-2],\n",
    "        weightfactor would be [grid cell area / Cp] where Cp is the specific heat capacity.\n",
    "    Returns\n",
    "    -------\n",
    "    G : xr.DataArray [kg s-1]\n",
    "        Watermass transformation across surfaces of lname due to process Ldotname.\n",
    "    \"\"\"\n",
    "    ### Simplest calculation of WMT due to a single process ###\n",
    "    # Calculation\n",
    "    nanmask = np.isnan(ds[Ldotname])\n",
    "    G = histogram(ds[lname].where(~nanmask).squeeze(),\n",
    "                  bins=[lbins],\n",
    "                  dim=['xh','yh','z_l'],\n",
    "                  weights=(weightfactor).where(~nanmask).squeeze()\n",
    "                 )/np.diff(lbins)\n",
    "    return G\n"
   ]
  },
  {
   "cell_type": "code",
   "execution_count": 37,
   "id": "b801c12b",
   "metadata": {},
   "outputs": [],
   "source": [
    "# Constants\n",
    "Cp=3992.\n",
    "# Variables\n",
    "lname = \"temp\"\n",
    "lbins = np.linspace(-3,10,20)\n",
    "Ldotname = \"opottempdiff\"\n",
    "# Calculation\n",
    "G = testingcalc_G(ds=ds,lname=lname,Ldotname=Ldotname,lbins=lbins,weightfactor=grid[\"areacello\"]*Cp)"
   ]
  },
  {
   "cell_type": "code",
   "execution_count": 40,
   "id": "4a78c6a8",
   "metadata": {},
   "outputs": [],
   "source": [
    "### This is a dummy function at the moment, but what I presume something like this could look like.\n",
    "def test_calc_G():\n",
    "    dstest = xr.open_dataset('../data/raw/testdata_Baltic/19000101.ocean_z_heat_1900_01.nc')\n",
    "    gridtest = xr.open_dataset('../data/raw/testdata_Baltic/19000101.ocean_static.nc')\n",
    "    \n",
    "    # Simple calculation\n",
    "    # Constants\n",
    "    Cp=3992.\n",
    "    # Variables\n",
    "    lname = \"temp\"\n",
    "    lbins = np.linspace(-3,10,20)\n",
    "    Ldotname = \"opottempdiff\"\n",
    "    # Calculation\n",
    "    Gsimple = testingcalc_G(ds=ds,lname=lname,Ldotname=Ldotname,lbins=lbins,weightfactor=grid[\"areacello\"]*Cp)\n",
    "    \n",
    "    # Within xwmt package framework\n",
    "    G = xwmt.wmt(dstest,gridtest).G(lname,Ldotname,lbins)"
   ]
  },
  {
   "cell_type": "code",
   "execution_count": null,
   "id": "b9dcf8b0",
   "metadata": {},
   "outputs": [],
   "source": []
  }
 ],
 "metadata": {
  "kernelspec": {
   "display_name": "Python [conda env:wmt_bgc]",
   "language": "python",
   "name": "conda-env-wmt_bgc-py"
  },
  "language_info": {
   "codemirror_mode": {
    "name": "ipython",
    "version": 3
   },
   "file_extension": ".py",
   "mimetype": "text/x-python",
   "name": "python",
   "nbconvert_exporter": "python",
   "pygments_lexer": "ipython3",
   "version": "3.9.4"
  }
 },
 "nbformat": 4,
 "nbformat_minor": 5
}
